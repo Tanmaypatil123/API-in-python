{
 "cells": [
  {
   "cell_type": "code",
   "execution_count": null,
   "metadata": {},
   "outputs": [],
   "source": [
    "import requests\n",
    "import json"
   ]
  },
  {
   "cell_type": "code",
   "execution_count": null,
   "metadata": {},
   "outputs": [],
   "source": [
    "api_key =str(input(\"Enter your api key:\"))"
   ]
  },
  {
   "cell_type": "code",
   "execution_count": null,
   "metadata": {},
   "outputs": [],
   "source": [
    "base_url = \"http://api.openweathermap.org/data/2.5/weather?\""
   ]
  },
  {
   "cell_type": "code",
   "execution_count": null,
   "metadata": {},
   "outputs": [],
   "source": [
    "city_name = input(\"Enter city name : \")"
   ]
  },
  {
   "cell_type": "code",
   "execution_count": null,
   "metadata": {},
   "outputs": [],
   "source": [
    "complete_url = base_url + \"appid=\" + api_key + \"&q=\" + city_name"
   ]
  },
  {
   "cell_type": "code",
   "execution_count": null,
   "metadata": {},
   "outputs": [],
   "source": [
    "response = requests.get(complete_url)"
   ]
  },
  {
   "cell_type": "code",
   "execution_count": null,
   "metadata": {},
   "outputs": [],
   "source": [
    "x = response.json()"
   ]
  },
  {
   "cell_type": "code",
   "execution_count": null,
   "metadata": {},
   "outputs": [],
   "source": [
    "if x[\"cod\"] != \"404\":\n",
    "    y = x[\"main\"]\n",
    "    current_temperature = y[\"temp\"]\n",
    "    current_pressure = y[\"pressure\"]\n",
    "    current_humidiy = y[\"humidity\"]\n",
    "    z = x[\"weather\"]\n",
    "    weather_description = z[0][\"description\"]\n",
    "    print(\" Temperature (in kelvin unit) = \" +str(current_temperature) + \"\\n atmospheric pressure (in hPa unit) = \" + str(current_pressure) +\"\\n humidity (in percentage) = \" + str(current_humidiy) + \"\\n description = \" +str(weather_description))\n",
    "    \n",
    "else:\n",
    "    print(\" City Not Found \")"
   ]
  }
 ],
 "metadata": {
  "kernelspec": {
   "display_name": "Python 3",
   "language": "python",
   "name": "python3"
  },
  "language_info": {
   "codemirror_mode": {
    "name": "ipython",
    "version": 3
   },
   "file_extension": ".py",
   "mimetype": "text/x-python",
   "name": "python",
   "nbconvert_exporter": "python",
   "pygments_lexer": "ipython3",
   "version": "3.8.5"
  }
 },
 "nbformat": 4,
 "nbformat_minor": 4
}
